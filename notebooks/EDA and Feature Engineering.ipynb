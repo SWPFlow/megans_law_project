{
 "cells": [
  {
   "cell_type": "markdown",
   "metadata": {},
   "source": [
    "# Imports"
   ]
  },
  {
   "cell_type": "code",
   "execution_count": 1,
   "metadata": {
    "collapsed": true
   },
   "outputs": [],
   "source": [
    "import pandas as pd\n",
    "from pymongo import MongoClient\n",
    "import numpy as np\n",
    "import matplotlib.pyplot as plt\n",
    "%matplotlib inline"
   ]
  },
  {
   "cell_type": "markdown",
   "metadata": {},
   "source": [
    "# Load Data"
   ]
  },
  {
   "cell_type": "code",
   "execution_count": 2,
   "metadata": {
    "collapsed": false
   },
   "outputs": [],
   "source": [
    "df = pd.read_csv('../data/Megans_List.csv')"
   ]
  },
  {
   "cell_type": "code",
   "execution_count": 3,
   "metadata": {
    "collapsed": false
   },
   "outputs": [],
   "source": [
    "df.fillna('no info', inplace=True)"
   ]
  },
  {
   "cell_type": "markdown",
   "metadata": {},
   "source": [
    "# EDA"
   ]
  },
  {
   "cell_type": "markdown",
   "metadata": {},
   "source": [
    "Looking at mostly empty fields"
   ]
  },
  {
   "cell_type": "code",
   "execution_count": 4,
   "metadata": {
    "collapsed": false
   },
   "outputs": [
    {
     "name": "stdout",
     "output_type": "stream",
     "text": [
      "Score\n",
      "Missing:  38437\n",
      "Present:  11009\n",
      "Score Date\n",
      "Missing:  38437\n",
      "Present:  11009\n",
      "Tool Name\n",
      "Missing:  38437\n",
      "Present:  11009\n",
      "Year of Last Conviction\n",
      "Missing:  45526\n",
      "Present:  3920\n",
      "Year of Last Release\n",
      "Missing:  45526\n",
      "Present:  3920\n"
     ]
    }
   ],
   "source": [
    "sparse_cols = [u'Score', u'Score Date', u'Tool Name', u'Year of Last Conviction', u'Year of Last Release']\n",
    "\n",
    "for column in sparse_cols:\n",
    "    print column\n",
    "    null = df[column].unique()[0]\n",
    "    print 'Missing: ', (df[column] == null).sum()\n",
    "    print 'Present: ', (df[column] != null).sum()"
   ]
  },
  {
   "cell_type": "code",
   "execution_count": 5,
   "metadata": {
    "collapsed": false
   },
   "outputs": [
    {
     "name": "stdout",
     "output_type": "stream",
     "text": [
      "redtext0\n",
      "['no info' 'Specific address not subject to disclosure' 'TRANSIENT'\n",
      " 'WHEREABOUTS UNKNOWN']\n",
      "Blanks:  0\n",
      "redtext1\n",
      "['no info'\n",
      " 'THIS SEX OFFENDER HAS BEEN IN VIOLATION OF REGISTRATION REQUIREMENTS SINCE 02/22/2006.'\n",
      " 'THIS SEX OFFENDER HAS BEEN IN VIOLATION OF REGISTRATION REQUIREMENTS SINCE 04/27/2015.'\n",
      " ...,\n",
      " 'THIS SEX OFFENDER HAS BEEN IN VIOLATION OF REGISTRATION REQUIREMENTS SINCE 12/03/2006.'\n",
      " 'THIS SEX OFFENDER HAS BEEN IN VIOLATION OF REGISTRATION REQUIREMENTS SINCE 11/08/1996.'\n",
      " 'THIS SEX OFFENDER HAS BEEN IN VIOLATION OF REGISTRATION REQUIREMENTS SINCE 03/03/2001.']\n",
      "Blanks:  0\n",
      "Others:  40501\n",
      "redtext2\n",
      "[ 'DOJ is unable to determine if there are any subsequent felony convictions for this registrant at this time.'\n",
      " 'Registrant has subsequent felony conviction(s) but DOJ has no incarceration information for this felony.'\n",
      " 'Registrant has no California subsequent felony convictions.'\n",
      " 'Registrant was incarcerated for a subsequent felony conviction(s).']\n",
      "Blanks:  0\n"
     ]
    }
   ],
   "source": [
    "good_red = ['redtext{}'.format(num) for num in xrange(3)]\n",
    "for red in good_red:\n",
    "    print red\n",
    "    print df[red].unique()\n",
    "    print 'Blanks: ', (df[red] == u'').sum()\n",
    "    if red == 'redtext1':\n",
    "        print 'Others: ', df[red].count() -(df[red] == u'').sum() - df[red].str.contains('VIOLATION').sum()"
   ]
  },
  {
   "cell_type": "code",
   "execution_count": 71,
   "metadata": {
    "collapsed": false
   },
   "outputs": [
    {
     "data": {
      "text/html": [
       "<div>\n",
       "<table border=\"1\" class=\"dataframe\">\n",
       "  <thead>\n",
       "    <tr style=\"text-align: right;\">\n",
       "      <th></th>\n",
       "      <th>Description</th>\n",
       "      <th>Offense Code</th>\n",
       "      <th>Score</th>\n",
       "      <th>Score Date</th>\n",
       "      <th>Tool Name</th>\n",
       "      <th>Year of Last Conviction</th>\n",
       "      <th>Year of Last Release</th>\n",
       "      <th>redtext0</th>\n",
       "      <th>redtext1</th>\n",
       "      <th>redtext2</th>\n",
       "      <th>...</th>\n",
       "      <th>AMERICAN INDIAN</th>\n",
       "      <th>ASIAN INDIAN</th>\n",
       "      <th>SAMOAN</th>\n",
       "      <th>HAWAIIAN</th>\n",
       "      <th>CAMBODIAN</th>\n",
       "      <th>JAPANESE</th>\n",
       "      <th>LAOTIAN</th>\n",
       "      <th>County</th>\n",
       "      <th>Num Score</th>\n",
       "      <th>Score missing</th>\n",
       "    </tr>\n",
       "  </thead>\n",
       "  <tbody>\n",
       "    <tr>\n",
       "      <th>0</th>\n",
       "      <td>[INDECENT EXPOSURE, ASSAULT WITH INTENT TO COM...</td>\n",
       "      <td>[314.1, 220, 243.4(a)]</td>\n",
       "      <td>no info</td>\n",
       "      <td>no info</td>\n",
       "      <td>no info</td>\n",
       "      <td></td>\n",
       "      <td></td>\n",
       "      <td>no info</td>\n",
       "      <td>no info</td>\n",
       "      <td>DOJ is unable to determine if there are any su...</td>\n",
       "      <td>...</td>\n",
       "      <td>0.0</td>\n",
       "      <td>0.0</td>\n",
       "      <td>0.0</td>\n",
       "      <td>0.0</td>\n",
       "      <td>0.0</td>\n",
       "      <td>0.0</td>\n",
       "      <td>0.0</td>\n",
       "      <td>ALAMEDA</td>\n",
       "      <td>2</td>\n",
       "      <td>1</td>\n",
       "    </tr>\n",
       "    <tr>\n",
       "      <th>1</th>\n",
       "      <td>[RAPE BY FORCE OR FEAR, ORAL COPULATION WITH A...</td>\n",
       "      <td>[261(a)(2), 288a(c)]</td>\n",
       "      <td>no info</td>\n",
       "      <td>no info</td>\n",
       "      <td>no info</td>\n",
       "      <td></td>\n",
       "      <td></td>\n",
       "      <td>no info</td>\n",
       "      <td>no info</td>\n",
       "      <td>DOJ is unable to determine if there are any su...</td>\n",
       "      <td>...</td>\n",
       "      <td>0.0</td>\n",
       "      <td>0.0</td>\n",
       "      <td>0.0</td>\n",
       "      <td>0.0</td>\n",
       "      <td>0.0</td>\n",
       "      <td>0.0</td>\n",
       "      <td>0.0</td>\n",
       "      <td>ALAMEDA</td>\n",
       "      <td>2</td>\n",
       "      <td>1</td>\n",
       "    </tr>\n",
       "    <tr>\n",
       "      <th>2</th>\n",
       "      <td>[PRIOR CODE: ANNOY OR MOLEST A CHILD, PRIOR CO...</td>\n",
       "      <td>[647a(1), 288, 288(a)]</td>\n",
       "      <td>no info</td>\n",
       "      <td>no info</td>\n",
       "      <td>no info</td>\n",
       "      <td></td>\n",
       "      <td></td>\n",
       "      <td>no info</td>\n",
       "      <td>THIS SEX OFFENDER HAS BEEN IN VIOLATION OF REG...</td>\n",
       "      <td>DOJ is unable to determine if there are any su...</td>\n",
       "      <td>...</td>\n",
       "      <td>0.0</td>\n",
       "      <td>0.0</td>\n",
       "      <td>0.0</td>\n",
       "      <td>0.0</td>\n",
       "      <td>0.0</td>\n",
       "      <td>0.0</td>\n",
       "      <td>0.0</td>\n",
       "      <td>None</td>\n",
       "      <td>2</td>\n",
       "      <td>1</td>\n",
       "    </tr>\n",
       "    <tr>\n",
       "      <th>3</th>\n",
       "      <td>[CONTINUOUS SEXUAL ABUSE OF CHILD]</td>\n",
       "      <td>[288.5(a)]</td>\n",
       "      <td>no info</td>\n",
       "      <td>no info</td>\n",
       "      <td>no info</td>\n",
       "      <td></td>\n",
       "      <td></td>\n",
       "      <td>no info</td>\n",
       "      <td>no info</td>\n",
       "      <td>DOJ is unable to determine if there are any su...</td>\n",
       "      <td>...</td>\n",
       "      <td>0.0</td>\n",
       "      <td>0.0</td>\n",
       "      <td>0.0</td>\n",
       "      <td>0.0</td>\n",
       "      <td>0.0</td>\n",
       "      <td>0.0</td>\n",
       "      <td>0.0</td>\n",
       "      <td>ALAMEDA</td>\n",
       "      <td>2</td>\n",
       "      <td>1</td>\n",
       "    </tr>\n",
       "    <tr>\n",
       "      <th>4</th>\n",
       "      <td>[LEWD OR LASCIVIOUS ACTS WITH A CHILD UNDER 14...</td>\n",
       "      <td>[288(a)]</td>\n",
       "      <td>no info</td>\n",
       "      <td>no info</td>\n",
       "      <td>no info</td>\n",
       "      <td></td>\n",
       "      <td></td>\n",
       "      <td>no info</td>\n",
       "      <td>no info</td>\n",
       "      <td>Registrant has subsequent felony conviction(s)...</td>\n",
       "      <td>...</td>\n",
       "      <td>0.0</td>\n",
       "      <td>0.0</td>\n",
       "      <td>0.0</td>\n",
       "      <td>0.0</td>\n",
       "      <td>0.0</td>\n",
       "      <td>0.0</td>\n",
       "      <td>0.0</td>\n",
       "      <td>ALAMEDA</td>\n",
       "      <td>2</td>\n",
       "      <td>1</td>\n",
       "    </tr>\n",
       "  </tbody>\n",
       "</table>\n",
       "<p>5 rows × 54 columns</p>\n",
       "</div>"
      ],
      "text/plain": [
       "                                         Description            Offense Code  \\\n",
       "0  [INDECENT EXPOSURE, ASSAULT WITH INTENT TO COM...  [314.1, 220, 243.4(a)]   \n",
       "1  [RAPE BY FORCE OR FEAR, ORAL COPULATION WITH A...    [261(a)(2), 288a(c)]   \n",
       "2  [PRIOR CODE: ANNOY OR MOLEST A CHILD, PRIOR CO...  [647a(1), 288, 288(a)]   \n",
       "3                 [CONTINUOUS SEXUAL ABUSE OF CHILD]              [288.5(a)]   \n",
       "4  [LEWD OR LASCIVIOUS ACTS WITH A CHILD UNDER 14...                [288(a)]   \n",
       "\n",
       "     Score Score Date Tool Name Year of Last Conviction Year of Last Release  \\\n",
       "0  no info    no info   no info                                                \n",
       "1  no info    no info   no info                                                \n",
       "2  no info    no info   no info                                                \n",
       "3  no info    no info   no info                                                \n",
       "4  no info    no info   no info                                                \n",
       "\n",
       "  redtext0                                           redtext1  \\\n",
       "0  no info                                            no info   \n",
       "1  no info                                            no info   \n",
       "2  no info  THIS SEX OFFENDER HAS BEEN IN VIOLATION OF REG...   \n",
       "3  no info                                            no info   \n",
       "4  no info                                            no info   \n",
       "\n",
       "                                            redtext2      ...        \\\n",
       "0  DOJ is unable to determine if there are any su...      ...         \n",
       "1  DOJ is unable to determine if there are any su...      ...         \n",
       "2  DOJ is unable to determine if there are any su...      ...         \n",
       "3  DOJ is unable to determine if there are any su...      ...         \n",
       "4  Registrant has subsequent felony conviction(s)...      ...         \n",
       "\n",
       "  AMERICAN INDIAN ASIAN INDIAN SAMOAN HAWAIIAN CAMBODIAN JAPANESE LAOTIAN  \\\n",
       "0             0.0          0.0    0.0      0.0       0.0      0.0     0.0   \n",
       "1             0.0          0.0    0.0      0.0       0.0      0.0     0.0   \n",
       "2             0.0          0.0    0.0      0.0       0.0      0.0     0.0   \n",
       "3             0.0          0.0    0.0      0.0       0.0      0.0     0.0   \n",
       "4             0.0          0.0    0.0      0.0       0.0      0.0     0.0   \n",
       "\n",
       "    County  Num Score  Score missing  \n",
       "0  ALAMEDA          2              1  \n",
       "1  ALAMEDA          2              1  \n",
       "2     None          2              1  \n",
       "3  ALAMEDA          2              1  \n",
       "4  ALAMEDA          2              1  \n",
       "\n",
       "[5 rows x 54 columns]"
      ]
     },
     "execution_count": 71,
     "metadata": {},
     "output_type": "execute_result"
    }
   ],
   "source": [
    "df.head()"
   ]
  },
  {
   "cell_type": "code",
   "execution_count": 7,
   "metadata": {
    "collapsed": false
   },
   "outputs": [
    {
     "data": {
      "text/plain": [
       "Index([u'Description', u'Offense Code', u'Score', u'Score Date', u'Tool Name',\n",
       "       u'Year of Last Conviction', u'Year of Last Release', u'redtext0',\n",
       "       u'redtext1', u'redtext2', u'so_id', u'Date of Birth', u'Ethnicity',\n",
       "       u'Eye Color', u'Hair Color', u'Height', u'Last Known Address', u'Sex',\n",
       "       u'Weight'],\n",
       "      dtype='object')"
      ]
     },
     "execution_count": 7,
     "metadata": {},
     "output_type": "execute_result"
    }
   ],
   "source": [
    "df.columns"
   ]
  },
  {
   "cell_type": "code",
   "execution_count": 8,
   "metadata": {
    "collapsed": false
   },
   "outputs": [
    {
     "name": "stdout",
     "output_type": "stream",
     "text": [
      "<class 'pandas.core.frame.DataFrame'>\n",
      "RangeIndex: 49446 entries, 0 to 49445\n",
      "Data columns (total 19 columns):\n",
      "Description                49446 non-null object\n",
      "Offense Code               49446 non-null object\n",
      "Score                      49446 non-null object\n",
      "Score Date                 49446 non-null object\n",
      "Tool Name                  49446 non-null object\n",
      "Year of Last Conviction    49446 non-null object\n",
      "Year of Last Release       49446 non-null object\n",
      "redtext0                   49446 non-null object\n",
      "redtext1                   49446 non-null object\n",
      "redtext2                   49446 non-null object\n",
      "so_id                      49446 non-null object\n",
      "Date of Birth              49446 non-null object\n",
      "Ethnicity                  49446 non-null object\n",
      "Eye Color                  49446 non-null object\n",
      "Hair Color                 49446 non-null object\n",
      "Height                     49446 non-null object\n",
      "Last Known Address         49446 non-null object\n",
      "Sex                        49446 non-null object\n",
      "Weight                     49446 non-null int64\n",
      "dtypes: int64(1), object(18)\n",
      "memory usage: 7.2+ MB\n"
     ]
    }
   ],
   "source": [
    "df.info()"
   ]
  },
  {
   "cell_type": "markdown",
   "metadata": {},
   "source": [
    "# Feature Engineering"
   ]
  },
  {
   "cell_type": "code",
   "execution_count": 9,
   "metadata": {
    "collapsed": false
   },
   "outputs": [],
   "source": [
    "code_sentencing = {}\n",
    "with open('../data/code_sentencing.txt') as f:\n",
    "    for line in f:\n",
    "        if 'skip' in line:\n",
    "            continue\n",
    "        code = line.split(':')[0]\n",
    "        sentences = set(float(sentence.strip()) for sentence in line.split(':')[1].split(','))\n",
    "        code_sentencing[code] = sentences"
   ]
  },
  {
   "cell_type": "code",
   "execution_count": 10,
   "metadata": {
    "collapsed": false
   },
   "outputs": [],
   "source": [
    "df['Description'] = df['Description'].apply(lambda x: x.split(';'))\n",
    "df['Offense Code'] = df['Offense Code'].apply(lambda x: x.split(';'))\n",
    "df['Number of Offenses'] = df['Offense Code'].apply(lambda x: len(x))\n",
    "df['Priors'] = df['Description'].apply(lambda x: sum(1 if 'PRIOR' in y else 0 for y in x))\n",
    "df['Height in Inches'] = df['Height'].apply(lambda x: int(x.split(\"'\")[0]) * 12 + int(x.split(\"'\")[1].strip('\"')))\n",
    "df['BMI'] = df['Weight'] * 0.45 / (df['Height in Inches'] * 0.025) ** 2\n",
    "df['Female'] = pd.get_dummies(df['Sex'])['FEMALE']\n",
    "df['Violation'] = df['redtext1'].str.contains('VIOLATION') * 1\n",
    "df['Transient'] = df['redtext0'].str.contains('TRANSIENT') * 1\n",
    "df['Age'] = 2016 - df['Date of Birth'].apply(lambda x: int(x.split('-')[-1]))\n",
    "df['Years in Violation'] = df['redtext1'].apply(lambda x: 2016 - int(x.split('/')[-1]\n",
    "                                                .split('.')[0]) if 'VIOLATION' in x else 0)\n",
    "df['SVP'] = df['redtext1'].str.contains('VIOLENT') * 1\n",
    "df['Age in Question'] = df['Age'] - df['Years in Violation']\n",
    "df['Possible Sentences'] = df['Offense Code'].apply(lambda lst: set.union(set(), \n",
    "                                                    *[code_sentencing[code] \n",
    "                                                    for code in lst if code in code_sentencing]))\n",
    "df['Minimum Sentence'] = df['Possible Sentences'].apply(lambda x: min(x) if len(x) > 0 else 0.0)\n",
    "df['Maximum Sentence'] = df['Possible Sentences'].apply(lambda x: max(x) if len(x) > 0 else 0.0)"
   ]
  },
  {
   "cell_type": "markdown",
   "metadata": {},
   "source": [
    "# More EDA"
   ]
  },
  {
   "cell_type": "code",
   "execution_count": 12,
   "metadata": {
    "collapsed": false
   },
   "outputs": [
    {
     "name": "stdout",
     "output_type": "stream",
     "text": [
      "Height in Inches\n"
     ]
    },
    {
     "data": {
      "image/png": "[encoded data removed]",
      "text/plain": [
       "<matplotlib.figure.Figure at 0x11e38c710>"
      ]
     },
     "metadata": {},
     "output_type": "display_data"
    },
    {
     "name": "stdout",
     "output_type": "stream",
     "text": [
      "BMI\n"
     ]
    },
    {
     "data": {
      "image/png": "[encoded data removed]",
      "text/plain": [
       "<matplotlib.figure.Figure at 0x1210690d0>"
      ]
     },
     "metadata": {},
     "output_type": "display_data"
    },
    {
     "name": "stdout",
     "output_type": "stream",
     "text": [
      "Female\n"
     ]
    },
    {
     "data": {
      "image/png": "[encoded data removed]",
      "text/plain": [
       "<matplotlib.figure.Figure at 0x120b4af50>"
      ]
     },
     "metadata": {},
     "output_type": "display_data"
    },
    {
     "name": "stdout",
     "output_type": "stream",
     "text": [
      "Violation\n"
     ]
    },
    {
     "data": {
      "image/png": "[encoded data removed]",
      "text/plain": [
       "<matplotlib.figure.Figure at 0x12101f990>"
      ]
     },
     "metadata": {},
     "output_type": "display_data"
    },
    {
     "name": "stdout",
     "output_type": "stream",
     "text": [
      "Transient\n"
     ]
    },
    {
     "data": {
      "image/png": "[encoded data removed]",
      "text/plain": [
       "<matplotlib.figure.Figure at 0x120d0e850>"
      ]
     },
     "metadata": {},
     "output_type": "display_data"
    },
    {
     "name": "stdout",
     "output_type": "stream",
     "text": [
      "Age\n"
     ]
    },
    {
     "data": {
      "image/png": "[encoded data removed]",
      "text/plain": [
       "<matplotlib.figure.Figure at 0x11e0ddbd0>"
      ]
     },
     "metadata": {},
     "output_type": "display_data"
    },
    {
     "name": "stdout",
     "output_type": "stream",
     "text": [
      "Years in Violation\n"
     ]
    },
    {
     "data": {
      "image/png": "[encoded data removed]",
      "text/plain": [
       "<matplotlib.figure.Figure at 0x1174fda10>"
      ]
     },
     "metadata": {},
     "output_type": "display_data"
    },
    {
     "name": "stdout",
     "output_type": "stream",
     "text": [
      "SVP\n"
     ]
    },
    {
     "data": {
      "image/png": "[encoded data removed]",
      "text/plain": [
       "<matplotlib.figure.Figure at 0x120b2f350>"
      ]
     },
     "metadata": {},
     "output_type": "display_data"
    },
    {
     "name": "stdout",
     "output_type": "stream",
     "text": [
      "Age in Question\n"
     ]
    },
    {
     "data": {
      "image/png": "[encoded data removed]",
      "text/plain": [
       "<matplotlib.figure.Figure at 0x120b4a790>"
      ]
     },
     "metadata": {},
     "output_type": "display_data"
    },
    {
     "name": "stdout",
     "output_type": "stream",
     "text": [
      "Possible Sentences\n"
     ]
    },
    {
     "ename": "TypeError",
     "evalue": "len() of unsized object",
     "output_type": "error",
     "traceback": [
      "\u001b[0;31m---------------------------------------------------------------------------\u001b[0m",
      "\u001b[0;31mTypeError\u001b[0m                                 Traceback (most recent call last)",
      "\u001b[0;32m<ipython-input-12-89bbbbe88e2b>\u001b[0m in \u001b[0;36m<module>\u001b[0;34m()\u001b[0m\n\u001b[1;32m      2\u001b[0m     \u001b[0;32mprint\u001b[0m \u001b[0mcolumn\u001b[0m\u001b[0;34m\u001b[0m\u001b[0m\n\u001b[1;32m      3\u001b[0m     \u001b[0mplt\u001b[0m\u001b[0;34m.\u001b[0m\u001b[0mfigure\u001b[0m\u001b[0;34m(\u001b[0m\u001b[0;34m)\u001b[0m\u001b[0;34m\u001b[0m\u001b[0m\n\u001b[0;32m----> 4\u001b[0;31m     \u001b[0mplt\u001b[0m\u001b[0;34m.\u001b[0m\u001b[0mhist\u001b[0m\u001b[0;34m(\u001b[0m\u001b[0mdf\u001b[0m\u001b[0;34m[\u001b[0m\u001b[0mdf\u001b[0m\u001b[0;34m[\u001b[0m\u001b[0;34m'Violation'\u001b[0m\u001b[0;34m]\u001b[0m \u001b[0;34m==\u001b[0m \u001b[0;36m1\u001b[0m\u001b[0;34m]\u001b[0m\u001b[0;34m[\u001b[0m\u001b[0mcolumn\u001b[0m\u001b[0;34m]\u001b[0m\u001b[0;34m,\u001b[0m \u001b[0mbins\u001b[0m\u001b[0;34m=\u001b[0m\u001b[0;36m50\u001b[0m\u001b[0;34m)\u001b[0m\u001b[0;34m\u001b[0m\u001b[0m\n\u001b[0m\u001b[1;32m      5\u001b[0m     \u001b[0mplt\u001b[0m\u001b[0;34m.\u001b[0m\u001b[0mhist\u001b[0m\u001b[0;34m(\u001b[0m\u001b[0mdf\u001b[0m\u001b[0;34m[\u001b[0m\u001b[0mdf\u001b[0m\u001b[0;34m[\u001b[0m\u001b[0;34m'Violation'\u001b[0m\u001b[0;34m]\u001b[0m \u001b[0;34m==\u001b[0m \u001b[0;36m0\u001b[0m\u001b[0;34m]\u001b[0m\u001b[0;34m[\u001b[0m\u001b[0mcolumn\u001b[0m\u001b[0;34m]\u001b[0m\u001b[0;34m,\u001b[0m \u001b[0mbins\u001b[0m\u001b[0;34m=\u001b[0m\u001b[0;36m50\u001b[0m\u001b[0;34m,\u001b[0m \u001b[0malpha\u001b[0m\u001b[0;34m=\u001b[0m\u001b[0;36m.5\u001b[0m\u001b[0;34m)\u001b[0m\u001b[0;34m\u001b[0m\u001b[0m\n\u001b[1;32m      6\u001b[0m     \u001b[0mplt\u001b[0m\u001b[0;34m.\u001b[0m\u001b[0mshow\u001b[0m\u001b[0;34m(\u001b[0m\u001b[0;34m)\u001b[0m\u001b[0;34m\u001b[0m\u001b[0m\n",
      "\u001b[0;32m/Users/DannyPrikaz/anaconda/lib/python2.7/site-packages/matplotlib/pyplot.pyc\u001b[0m in \u001b[0;36mhist\u001b[0;34m(x, bins, range, normed, weights, cumulative, bottom, histtype, align, orientation, rwidth, log, color, label, stacked, hold, data, **kwargs)\u001b[0m\n\u001b[1;32m   2956\u001b[0m                       \u001b[0mhisttype\u001b[0m\u001b[0;34m=\u001b[0m\u001b[0mhisttype\u001b[0m\u001b[0;34m,\u001b[0m \u001b[0malign\u001b[0m\u001b[0;34m=\u001b[0m\u001b[0malign\u001b[0m\u001b[0;34m,\u001b[0m \u001b[0morientation\u001b[0m\u001b[0;34m=\u001b[0m\u001b[0morientation\u001b[0m\u001b[0;34m,\u001b[0m\u001b[0;34m\u001b[0m\u001b[0m\n\u001b[1;32m   2957\u001b[0m                       \u001b[0mrwidth\u001b[0m\u001b[0;34m=\u001b[0m\u001b[0mrwidth\u001b[0m\u001b[0;34m,\u001b[0m \u001b[0mlog\u001b[0m\u001b[0;34m=\u001b[0m\u001b[0mlog\u001b[0m\u001b[0;34m,\u001b[0m \u001b[0mcolor\u001b[0m\u001b[0;34m=\u001b[0m\u001b[0mcolor\u001b[0m\u001b[0;34m,\u001b[0m \u001b[0mlabel\u001b[0m\u001b[0;34m=\u001b[0m\u001b[0mlabel\u001b[0m\u001b[0;34m,\u001b[0m\u001b[0;34m\u001b[0m\u001b[0m\n\u001b[0;32m-> 2958\u001b[0;31m                       stacked=stacked, data=data, **kwargs)\n\u001b[0m\u001b[1;32m   2959\u001b[0m     \u001b[0;32mfinally\u001b[0m\u001b[0;34m:\u001b[0m\u001b[0;34m\u001b[0m\u001b[0m\n\u001b[1;32m   2960\u001b[0m         \u001b[0max\u001b[0m\u001b[0;34m.\u001b[0m\u001b[0mhold\u001b[0m\u001b[0;34m(\u001b[0m\u001b[0mwashold\u001b[0m\u001b[0;34m)\u001b[0m\u001b[0;34m\u001b[0m\u001b[0m\n",
      "\u001b[0;32m/Users/DannyPrikaz/anaconda/lib/python2.7/site-packages/matplotlib/__init__.pyc\u001b[0m in \u001b[0;36minner\u001b[0;34m(ax, *args, **kwargs)\u001b[0m\n\u001b[1;32m   1810\u001b[0m                     warnings.warn(msg % (label_namer, func.__name__),\n\u001b[1;32m   1811\u001b[0m                                   RuntimeWarning, stacklevel=2)\n\u001b[0;32m-> 1812\u001b[0;31m             \u001b[0;32mreturn\u001b[0m \u001b[0mfunc\u001b[0m\u001b[0;34m(\u001b[0m\u001b[0max\u001b[0m\u001b[0;34m,\u001b[0m \u001b[0;34m*\u001b[0m\u001b[0margs\u001b[0m\u001b[0;34m,\u001b[0m \u001b[0;34m**\u001b[0m\u001b[0mkwargs\u001b[0m\u001b[0;34m)\u001b[0m\u001b[0;34m\u001b[0m\u001b[0m\n\u001b[0m\u001b[1;32m   1813\u001b[0m         \u001b[0mpre_doc\u001b[0m \u001b[0;34m=\u001b[0m \u001b[0minner\u001b[0m\u001b[0;34m.\u001b[0m\u001b[0m__doc__\u001b[0m\u001b[0;34m\u001b[0m\u001b[0m\n\u001b[1;32m   1814\u001b[0m         \u001b[0;32mif\u001b[0m \u001b[0mpre_doc\u001b[0m \u001b[0;32mis\u001b[0m \u001b[0mNone\u001b[0m\u001b[0;34m:\u001b[0m\u001b[0;34m\u001b[0m\u001b[0m\n",
      "\u001b[0;32m/Users/DannyPrikaz/anaconda/lib/python2.7/site-packages/matplotlib/axes/_axes.pyc\u001b[0m in \u001b[0;36mhist\u001b[0;34m(self, x, bins, range, normed, weights, cumulative, bottom, histtype, align, orientation, rwidth, log, color, label, stacked, **kwargs)\u001b[0m\n\u001b[1;32m   5993\u001b[0m             \u001b[0mxmax\u001b[0m \u001b[0;34m=\u001b[0m \u001b[0;34m-\u001b[0m\u001b[0mnp\u001b[0m\u001b[0;34m.\u001b[0m\u001b[0minf\u001b[0m\u001b[0;34m\u001b[0m\u001b[0m\n\u001b[1;32m   5994\u001b[0m             \u001b[0;32mfor\u001b[0m \u001b[0mxi\u001b[0m \u001b[0;32min\u001b[0m \u001b[0mx\u001b[0m\u001b[0;34m:\u001b[0m\u001b[0;34m\u001b[0m\u001b[0m\n\u001b[0;32m-> 5995\u001b[0;31m                 \u001b[0;32mif\u001b[0m \u001b[0mlen\u001b[0m\u001b[0;34m(\u001b[0m\u001b[0mxi\u001b[0m\u001b[0;34m)\u001b[0m \u001b[0;34m>\u001b[0m \u001b[0;36m0\u001b[0m\u001b[0;34m:\u001b[0m\u001b[0;34m\u001b[0m\u001b[0m\n\u001b[0m\u001b[1;32m   5996\u001b[0m                     \u001b[0mxmin\u001b[0m \u001b[0;34m=\u001b[0m \u001b[0mmin\u001b[0m\u001b[0;34m(\u001b[0m\u001b[0mxmin\u001b[0m\u001b[0;34m,\u001b[0m \u001b[0mxi\u001b[0m\u001b[0;34m.\u001b[0m\u001b[0mmin\u001b[0m\u001b[0;34m(\u001b[0m\u001b[0;34m)\u001b[0m\u001b[0;34m)\u001b[0m\u001b[0;34m\u001b[0m\u001b[0m\n\u001b[1;32m   5997\u001b[0m                     \u001b[0mxmax\u001b[0m \u001b[0;34m=\u001b[0m \u001b[0mmax\u001b[0m\u001b[0;34m(\u001b[0m\u001b[0mxmax\u001b[0m\u001b[0;34m,\u001b[0m \u001b[0mxi\u001b[0m\u001b[0;34m.\u001b[0m\u001b[0mmax\u001b[0m\u001b[0;34m(\u001b[0m\u001b[0;34m)\u001b[0m\u001b[0;34m)\u001b[0m\u001b[0;34m\u001b[0m\u001b[0m\n",
      "\u001b[0;31mTypeError\u001b[0m: len() of unsized object"
     ]
    },
    {
     "data": {
      "image/png": "[encoded data removed]",
      "text/plain": [
       "<matplotlib.figure.Figure at 0x12151f9d0>"
      ]
     },
     "metadata": {},
     "output_type": "display_data"
    }
   ],
   "source": [
    "for column in df.columns[-12:]:\n",
    "    print column\n",
    "    plt.figure()\n",
    "    plt.hist(df[df['Violation'] == 1][column], bins=50)\n",
    "    plt.hist(df[df['Violation'] == 0][column], bins=50, alpha=.5)\n",
    "    plt.show()"
   ]
  },
  {
   "cell_type": "code",
   "execution_count": 14,
   "metadata": {
    "collapsed": false
   },
   "outputs": [
    {
     "name": "stderr",
     "output_type": "stream",
     "text": [
      "/Users/DannyPrikaz/anaconda/lib/python2.7/site-packages/ipykernel/__main__.py:2: SettingWithCopyWarning: \n",
      "A value is trying to be set on a copy of a slice from a DataFrame.\n",
      "Try using .loc[row_indexer,col_indexer] = value instead\n",
      "\n",
      "See the caveats in the documentation: http://pandas.pydata.org/pandas-docs/stable/indexing.html#indexing-view-versus-copy\n",
      "  from ipykernel import kernelapp as app\n",
      "/Users/DannyPrikaz/anaconda/lib/python2.7/site-packages/ipykernel/__main__.py:3: SettingWithCopyWarning: \n",
      "A value is trying to be set on a copy of a slice from a DataFrame\n",
      "\n",
      "See the caveats in the documentation: http://pandas.pydata.org/pandas-docs/stable/indexing.html#indexing-view-versus-copy\n",
      "  app.launch_new_instance()\n"
     ]
    }
   ],
   "source": [
    "attempt = df[df.columns[-15:-2]] #-2 excludes minimum and maximum sentencing\n",
    "attempt['Constant'] = 1\n",
    "attempt.drop(['Age', 'Years in Violation', 'Possible Sentences'], axis=1, inplace=True)\n",
    "\n",
    "y = attempt.pop('Violation').values\n",
    "X = attempt.values"
   ]
  },
  {
   "cell_type": "code",
   "execution_count": 15,
   "metadata": {
    "collapsed": true
   },
   "outputs": [],
   "source": [
    "def oversample(X, y):\n",
    "    if y.sum() * 1.0 / y.size > .5:\n",
    "        minority = 0\n",
    "        sample_add = y.sum() * 2 - y.size\n",
    "    else:\n",
    "        minority = 1\n",
    "        sample_add = y.size - y.sum() * 2\n",
    "        \n",
    "    print minority\n",
    "    print sample_add\n",
    "    minority_index = np.arange(y.size)[y == minority]\n",
    "    new_X = X\n",
    "    new_y = y\n",
    "    for i in xrange(sample_add):\n",
    "        index = np.random.choice(minority_index)\n",
    "        new_X = np.append(new_X, X[index].reshape((1, X[index].size)), axis=0)\n",
    "        new_y = np.append(new_y, minority)\n",
    "    \n",
    "    return new_X, new_y\n",
    "    "
   ]
  },
  {
   "cell_type": "code",
   "execution_count": 16,
   "metadata": {
    "collapsed": false
   },
   "outputs": [
    {
     "name": "stdout",
     "output_type": "stream",
     "text": [
      "1\n",
      "23768\n",
      "Balance Classes (Oversample)\n",
      "Logistic Regression: Precision - 0.292223686688, Recall - 0.678618277219\n",
      "Random Forest:  Precision - 0.305065234075, Recall - 0.347616965457\n",
      "Class Imbalance\n",
      "Logistic Regression: Precision - 0.714285714286, Recall - 0.039352864014\n",
      "Random Forest:  Precision - 0.38315018315, Recall - 0.228683865326\n"
     ]
    }
   ],
   "source": [
    "from sklearn.cross_validation import train_test_split\n",
    "from sklearn.linear_model import LogisticRegression\n",
    "from sklearn.ensemble import RandomForestClassifier\n",
    "from sklearn.metrics import recall_score, precision_score\n",
    "\n",
    "X_train, X_test, y_train, y_test = train_test_split(X, y, random_state=30)\n",
    "\n",
    "X_over, y_over = oversample(X_train, y_train)\n",
    "\n",
    "logr = LogisticRegression()\n",
    "rf = RandomForestClassifier()\n",
    "\n",
    "logr.fit(X_over, y_over)\n",
    "rf.fit(X_over, y_over)\n",
    "\n",
    "print 'Balance Classes (Oversample)'\n",
    "recall = recall_score(y_test, logr.predict(X_test))\n",
    "precision = precision_score(y_test, logr.predict(X_test))\n",
    "print 'Logistic Regression: Precision - {}, Recall - {}'.format(precision, recall)\n",
    "recall = recall_score(y_test, rf.predict(X_test))\n",
    "precision = precision_score(y_test, rf.predict(X_test))\n",
    "print 'Random Forest:  Precision - {}, Recall - {}'.format(precision, recall)\n",
    "\n",
    "\n",
    "logr.fit(X_train, y_train)\n",
    "rf.fit(X_train, y_train)\n",
    "\n",
    "print 'Class Imbalance'\n",
    "recall = recall_score(y_test, logr.predict(X_test))\n",
    "precision = precision_score(y_test, logr.predict(X_test))\n",
    "print 'Logistic Regression: Precision - {}, Recall - {}'.format(precision, recall)\n",
    "recall = recall_score(y_test, rf.predict(X_test))\n",
    "precision = precision_score(y_test, rf.predict(X_test))\n",
    "print 'Random Forest:  Precision - {}, Recall - {}'.format(precision, recall)"
   ]
  },
  {
   "cell_type": "markdown",
   "metadata": {},
   "source": [
    "These were the results when I added in Minimum and Maximum Sentencing.  I may need to tinker with those fields.\n",
    "\n",
    "Balance Classes (Oversample)\n",
    "\n",
    "Logistic Regression: Precision - 0.299056422107, Recall - 0.679055531264\n",
    "\n",
    "Random Forest:  Precision - 0.36014162873, Recall - 0.311324879755\n",
    "\n",
    "Class Imbalance\n",
    "\n",
    "Logistic Regression: Precision - 0.608465608466, Recall - 0.050284215129\n",
    "\n",
    "Random Forest:  Precision - 0.439522998296, Recall - 0.225623087014"
   ]
  },
  {
   "cell_type": "code",
   "execution_count": 17,
   "metadata": {
    "collapsed": false
   },
   "outputs": [
    {
     "data": {
      "text/plain": [
       "0.81499757320821875"
      ]
     },
     "execution_count": 17,
     "metadata": {},
     "output_type": "execute_result"
    }
   ],
   "source": [
    "from sklearn.metrics import accuracy_score\n",
    "pred = np.zeros(y_test.size)\n",
    "accuracy_score(y_test, pred)"
   ]
  },
  {
   "cell_type": "code",
   "execution_count": 18,
   "metadata": {
    "collapsed": false
   },
   "outputs": [
    {
     "name": "stdout",
     "output_type": "stream",
     "text": [
      "0\n"
     ]
    },
    {
     "name": "stderr",
     "output_type": "stream",
     "text": [
      "/Users/DannyPrikaz/anaconda/lib/python2.7/site-packages/ipykernel/__main__.py:4: VisibleDeprecationWarning: boolean index did not match indexed array along dimension 0; dimension is 60852 but corresponding boolean dimension is 49446\n",
      "/Users/DannyPrikaz/anaconda/lib/python2.7/site-packages/ipykernel/__main__.py:5: VisibleDeprecationWarning: boolean index did not match indexed array along dimension 0; dimension is 60852 but corresponding boolean dimension is 49446\n"
     ]
    },
    {
     "data": {
      "image/png": "[encoded data removed]",
      "text/plain": [
       "<matplotlib.figure.Figure at 0x117b0add0>"
      ]
     },
     "metadata": {},
     "output_type": "display_data"
    },
    {
     "name": "stdout",
     "output_type": "stream",
     "text": [
      "1\n"
     ]
    },
    {
     "data": {
      "image/png": "[encoded data removed]",
      "text/plain": [
       "<matplotlib.figure.Figure at 0x123d62410>"
      ]
     },
     "metadata": {},
     "output_type": "display_data"
    },
    {
     "name": "stdout",
     "output_type": "stream",
     "text": [
      "2\n"
     ]
    },
    {
     "data": {
      "image/png": "[encoded data removed]",
      "text/plain": [
       "<matplotlib.figure.Figure at 0x120aa8e10>"
      ]
     },
     "metadata": {},
     "output_type": "display_data"
    },
    {
     "name": "stdout",
     "output_type": "stream",
     "text": [
      "3\n"
     ]
    },
    {
     "data": {
      "image/png": "[encoded data removed]",
      "text/plain": [
       "<matplotlib.figure.Figure at 0x125314d50>"
      ]
     },
     "metadata": {},
     "output_type": "display_data"
    },
    {
     "name": "stdout",
     "output_type": "stream",
     "text": [
      "4\n"
     ]
    },
    {
     "data": {
      "image/png": "[encoded data removed]",
      "text/plain": [
       "<matplotlib.figure.Figure at 0x121119790>"
      ]
     },
     "metadata": {},
     "output_type": "display_data"
    },
    {
     "name": "stdout",
     "output_type": "stream",
     "text": [
      "5\n"
     ]
    },
    {
     "data": {
      "image/png": "[encoded data removed]",
      "text/plain": [
       "<matplotlib.figure.Figure at 0x11987a250>"
      ]
     },
     "metadata": {},
     "output_type": "display_data"
    },
    {
     "name": "stdout",
     "output_type": "stream",
     "text": [
      "6\n"
     ]
    },
    {
     "data": {
      "image/png": "[encoded data removed]",
      "text/plain": [
       "<matplotlib.figure.Figure at 0x123a0c550>"
      ]
     },
     "metadata": {},
     "output_type": "display_data"
    },
    {
     "name": "stdout",
     "output_type": "stream",
     "text": [
      "7\n"
     ]
    },
    {
     "data": {
      "image/png": "[encoded data removed]",
      "text/plain": [
       "<matplotlib.figure.Figure at 0x125846c10>"
      ]
     },
     "metadata": {},
     "output_type": "display_data"
    },
    {
     "name": "stdout",
     "output_type": "stream",
     "text": [
      "8\n"
     ]
    },
    {
     "data": {
      "image/png": "[encoded data removed]",
      "text/plain": [
       "<matplotlib.figure.Figure at 0x123a11e90>"
      ]
     },
     "metadata": {},
     "output_type": "display_data"
    },
    {
     "name": "stdout",
     "output_type": "stream",
     "text": [
      "9\n"
     ]
    },
    {
     "data": {
      "image/png": "[encoded data removed]",
      "text/plain": [
       "<matplotlib.figure.Figure at 0x123a246d0>"
      ]
     },
     "metadata": {},
     "output_type": "display_data"
    }
   ],
   "source": [
    "for column in xrange(X_over.shape[1]):\n",
    "    print column\n",
    "    plt.figure()\n",
    "    plt.hist(X_over[y == 1][:, column], bins = np.linspace(0, X_over[column].max(), 200))\n",
    "    plt.hist(X_over[y == 0][:, column], bins = np.linspace(0, X_over[column].max(), 200), alpha=.5)\n",
    "    plt.show()"
   ]
  },
  {
   "cell_type": "code",
   "execution_count": 19,
   "metadata": {
    "collapsed": false
   },
   "outputs": [
    {
     "name": "stderr",
     "output_type": "stream",
     "text": [
      "/Users/DannyPrikaz/anaconda/lib/python2.7/site-packages/matplotlib/axes/_base.py:2787: UserWarning: Attempting to set identical left==right results\n",
      "in singular transformations; automatically expanding.\n",
      "left=1.0, right=1.0\n",
      "  'left=%s, right=%s') % (left, right))\n",
      "/Users/DannyPrikaz/anaconda/lib/python2.7/site-packages/matplotlib/axes/_base.py:3045: UserWarning: Attempting to set identical bottom==top results\n",
      "in singular transformations; automatically expanding.\n",
      "bottom=1.0, top=1.0\n",
      "  'bottom=%s, top=%s') % (bottom, top))\n"
     ]
    },
    {
     "data": {
      "image/png": "[encoded data removed]",
      "text/plain": [
       "<matplotlib.figure.Figure at 0x117b0af10>"
      ]
     },
     "metadata": {},
     "output_type": "display_data"
    }
   ],
   "source": [
    "_ = pd.scatter_matrix(attempt, figsize=(10,10))"
   ]
  },
  {
   "cell_type": "code",
   "execution_count": 20,
   "metadata": {
    "collapsed": false,
    "scrolled": true
   },
   "outputs": [
    {
     "data": {
      "text/html": [
       "<div>\n",
       "<table border=\"1\" class=\"dataframe\">\n",
       "  <thead>\n",
       "    <tr style=\"text-align: right;\">\n",
       "      <th></th>\n",
       "      <th>Weight</th>\n",
       "      <th>Number of Offenses</th>\n",
       "      <th>Priors</th>\n",
       "      <th>Height in Inches</th>\n",
       "      <th>BMI</th>\n",
       "      <th>Female</th>\n",
       "      <th>Violation</th>\n",
       "      <th>Transient</th>\n",
       "      <th>Age</th>\n",
       "      <th>Years in Violation</th>\n",
       "      <th>SVP</th>\n",
       "      <th>Age in Question</th>\n",
       "      <th>Minimum Sentence</th>\n",
       "      <th>Maximum Sentence</th>\n",
       "    </tr>\n",
       "  </thead>\n",
       "  <tbody>\n",
       "    <tr>\n",
       "      <th>count</th>\n",
       "      <td>49446.000000</td>\n",
       "      <td>49446.000000</td>\n",
       "      <td>49446.000000</td>\n",
       "      <td>49446.000000</td>\n",
       "      <td>49446.000000</td>\n",
       "      <td>49446.000000</td>\n",
       "      <td>49446.000000</td>\n",
       "      <td>49446.000000</td>\n",
       "      <td>49446.000000</td>\n",
       "      <td>49446.000000</td>\n",
       "      <td>49446.000000</td>\n",
       "      <td>49446.00000</td>\n",
       "      <td>49446.000000</td>\n",
       "      <td>49446.000000</td>\n",
       "    </tr>\n",
       "    <tr>\n",
       "      <th>mean</th>\n",
       "      <td>191.628443</td>\n",
       "      <td>1.329936</td>\n",
       "      <td>0.237572</td>\n",
       "      <td>69.100049</td>\n",
       "      <td>28.823257</td>\n",
       "      <td>0.015148</td>\n",
       "      <td>0.180904</td>\n",
       "      <td>0.090361</td>\n",
       "      <td>54.065668</td>\n",
       "      <td>1.121648</td>\n",
       "      <td>0.002063</td>\n",
       "      <td>52.94402</td>\n",
       "      <td>2.183503</td>\n",
       "      <td>8.056274</td>\n",
       "    </tr>\n",
       "    <tr>\n",
       "      <th>std</th>\n",
       "      <td>42.354603</td>\n",
       "      <td>0.704168</td>\n",
       "      <td>0.507049</td>\n",
       "      <td>3.266100</td>\n",
       "      <td>5.784515</td>\n",
       "      <td>0.122142</td>\n",
       "      <td>0.384943</td>\n",
       "      <td>0.286701</td>\n",
       "      <td>14.115505</td>\n",
       "      <td>3.886298</td>\n",
       "      <td>0.045372</td>\n",
       "      <td>14.08658</td>\n",
       "      <td>1.920774</td>\n",
       "      <td>4.993304</td>\n",
       "    </tr>\n",
       "    <tr>\n",
       "      <th>min</th>\n",
       "      <td>75.000000</td>\n",
       "      <td>1.000000</td>\n",
       "      <td>0.000000</td>\n",
       "      <td>24.000000</td>\n",
       "      <td>10.416667</td>\n",
       "      <td>0.000000</td>\n",
       "      <td>0.000000</td>\n",
       "      <td>0.000000</td>\n",
       "      <td>18.000000</td>\n",
       "      <td>0.000000</td>\n",
       "      <td>0.000000</td>\n",
       "      <td>14.00000</td>\n",
       "      <td>0.000000</td>\n",
       "      <td>0.000000</td>\n",
       "    </tr>\n",
       "    <tr>\n",
       "      <th>25%</th>\n",
       "      <td>162.000000</td>\n",
       "      <td>1.000000</td>\n",
       "      <td>0.000000</td>\n",
       "      <td>67.000000</td>\n",
       "      <td>24.979592</td>\n",
       "      <td>0.000000</td>\n",
       "      <td>0.000000</td>\n",
       "      <td>0.000000</td>\n",
       "      <td>45.000000</td>\n",
       "      <td>0.000000</td>\n",
       "      <td>0.000000</td>\n",
       "      <td>43.00000</td>\n",
       "      <td>1.000000</td>\n",
       "      <td>6.000000</td>\n",
       "    </tr>\n",
       "    <tr>\n",
       "      <th>50%</th>\n",
       "      <td>185.000000</td>\n",
       "      <td>1.000000</td>\n",
       "      <td>0.000000</td>\n",
       "      <td>69.000000</td>\n",
       "      <td>27.977316</td>\n",
       "      <td>0.000000</td>\n",
       "      <td>0.000000</td>\n",
       "      <td>0.000000</td>\n",
       "      <td>54.000000</td>\n",
       "      <td>0.000000</td>\n",
       "      <td>0.000000</td>\n",
       "      <td>54.00000</td>\n",
       "      <td>3.000000</td>\n",
       "      <td>8.000000</td>\n",
       "    </tr>\n",
       "    <tr>\n",
       "      <th>75%</th>\n",
       "      <td>212.000000</td>\n",
       "      <td>1.000000</td>\n",
       "      <td>0.000000</td>\n",
       "      <td>71.000000</td>\n",
       "      <td>31.555880</td>\n",
       "      <td>0.000000</td>\n",
       "      <td>0.000000</td>\n",
       "      <td>0.000000</td>\n",
       "      <td>63.000000</td>\n",
       "      <td>0.000000</td>\n",
       "      <td>0.000000</td>\n",
       "      <td>62.00000</td>\n",
       "      <td>3.000000</td>\n",
       "      <td>10.000000</td>\n",
       "    </tr>\n",
       "    <tr>\n",
       "      <th>max</th>\n",
       "      <td>600.000000</td>\n",
       "      <td>16.000000</td>\n",
       "      <td>16.000000</td>\n",
       "      <td>86.000000</td>\n",
       "      <td>287.500000</td>\n",
       "      <td>1.000000</td>\n",
       "      <td>1.000000</td>\n",
       "      <td>1.000000</td>\n",
       "      <td>110.000000</td>\n",
       "      <td>60.000000</td>\n",
       "      <td>1.000000</td>\n",
       "      <td>108.00000</td>\n",
       "      <td>80.000000</td>\n",
       "      <td>80.000000</td>\n",
       "    </tr>\n",
       "  </tbody>\n",
       "</table>\n",
       "</div>"
      ],
      "text/plain": [
       "             Weight  Number of Offenses        Priors  Height in Inches  \\\n",
       "count  49446.000000        49446.000000  49446.000000      49446.000000   \n",
       "mean     191.628443            1.329936      0.237572         69.100049   \n",
       "std       42.354603            0.704168      0.507049          3.266100   \n",
       "min       75.000000            1.000000      0.000000         24.000000   \n",
       "25%      162.000000            1.000000      0.000000         67.000000   \n",
       "50%      185.000000            1.000000      0.000000         69.000000   \n",
       "75%      212.000000            1.000000      0.000000         71.000000   \n",
       "max      600.000000           16.000000     16.000000         86.000000   \n",
       "\n",
       "                BMI        Female     Violation     Transient           Age  \\\n",
       "count  49446.000000  49446.000000  49446.000000  49446.000000  49446.000000   \n",
       "mean      28.823257      0.015148      0.180904      0.090361     54.065668   \n",
       "std        5.784515      0.122142      0.384943      0.286701     14.115505   \n",
       "min       10.416667      0.000000      0.000000      0.000000     18.000000   \n",
       "25%       24.979592      0.000000      0.000000      0.000000     45.000000   \n",
       "50%       27.977316      0.000000      0.000000      0.000000     54.000000   \n",
       "75%       31.555880      0.000000      0.000000      0.000000     63.000000   \n",
       "max      287.500000      1.000000      1.000000      1.000000    110.000000   \n",
       "\n",
       "       Years in Violation           SVP  Age in Question  Minimum Sentence  \\\n",
       "count        49446.000000  49446.000000      49446.00000      49446.000000   \n",
       "mean             1.121648      0.002063         52.94402          2.183503   \n",
       "std              3.886298      0.045372         14.08658          1.920774   \n",
       "min              0.000000      0.000000         14.00000          0.000000   \n",
       "25%              0.000000      0.000000         43.00000          1.000000   \n",
       "50%              0.000000      0.000000         54.00000          3.000000   \n",
       "75%              0.000000      0.000000         62.00000          3.000000   \n",
       "max             60.000000      1.000000        108.00000         80.000000   \n",
       "\n",
       "       Maximum Sentence  \n",
       "count      49446.000000  \n",
       "mean           8.056274  \n",
       "std            4.993304  \n",
       "min            0.000000  \n",
       "25%            6.000000  \n",
       "50%            8.000000  \n",
       "75%           10.000000  \n",
       "max           80.000000  "
      ]
     },
     "execution_count": 20,
     "metadata": {},
     "output_type": "execute_result"
    }
   ],
   "source": [
    "df.describe()"
   ]
  },
  {
   "cell_type": "code",
   "execution_count": 21,
   "metadata": {
    "collapsed": true
   },
   "outputs": [],
   "source": [
    "# drop people under 4 foot, 18610285Y2461, (19711109Z2833? weight?)"
   ]
  },
  {
   "cell_type": "code",
   "execution_count": 22,
   "metadata": {
    "collapsed": false
   },
   "outputs": [
    {
     "name": "stderr",
     "output_type": "stream",
     "text": [
      "/Users/DannyPrikaz/anaconda/lib/python2.7/site-packages/ipykernel/__main__.py:2: UserWarning: Boolean Series key will be reindexed to match DataFrame index.\n",
      "  from ipykernel import kernelapp as app\n"
     ]
    },
    {
     "data": {
      "text/plain": [
       "1048"
      ]
     },
     "execution_count": 22,
     "metadata": {},
     "output_type": "execute_result"
    }
   ],
   "source": [
    "# These people could possibly be dead.  Some of them would be over 100 years old.\n",
    "df[df['Age'] != df['Age in Question']][df['Age'] > 75]['Age'].count()"
   ]
  },
  {
   "cell_type": "code",
   "execution_count": 23,
   "metadata": {
    "collapsed": false
   },
   "outputs": [
    {
     "data": {
      "text/plain": [
       "array(['no info', 'STATIC 99', 'STATIC 99R', 'LOW RISK',\n",
       "       'LOW-MODERATE RISK', 'HIGH RISK', 'MODERATE-HIGH RISK'], dtype=object)"
      ]
     },
     "execution_count": 23,
     "metadata": {},
     "output_type": "execute_result"
    }
   ],
   "source": [
    "df['Tool Name'].unique()"
   ]
  },
  {
   "cell_type": "code",
   "execution_count": 24,
   "metadata": {
    "collapsed": false
   },
   "outputs": [
    {
     "data": {
      "text/plain": [
       "array(['no info', '0', '1', '-1', '2', '3', '6', '4', '2 (INCOMPLETE)',\n",
       "       '7', '5 (INCOMPLETE)', '5', '9', '-2', '-3', '8', '4 (INCOMPLETE)',\n",
       "       '3 (INCOMPLETE)', '8 (INCOMPLETE)', '7 (INCOMPLETE)',\n",
       "       '1 (INCOMPLETE)', '(INCOMPLETE)', '6 (INCOMPLETE)', '10',\n",
       "       '-1 (INCOMPLETE)', '-2 (INCOMPLETE)', '0 (INCOMPLETE)',\n",
       "       '-3 (INCOMPLETE)', '11', '9 (INCOMPLETE)'], dtype=object)"
      ]
     },
     "execution_count": 24,
     "metadata": {},
     "output_type": "execute_result"
    }
   ],
   "source": [
    "df['Score'].unique()"
   ]
  },
  {
   "cell_type": "code",
   "execution_count": 61,
   "metadata": {
    "collapsed": false
   },
   "outputs": [
    {
     "data": {
      "text/plain": [
       "-10    38531\n",
       " 2      1942\n",
       " 1      1813\n",
       " 3      1714\n",
       " 0      1406\n",
       " 4      1314\n",
       "-1       829\n",
       " 5       739\n",
       " 6       412\n",
       "-3       232\n",
       "-2       210\n",
       " 7       200\n",
       " 8        72\n",
       " 9        25\n",
       " 10        6\n",
       " 11        1\n",
       "Name: Score, dtype: int64"
      ]
     },
     "execution_count": 61,
     "metadata": {},
     "output_type": "execute_result"
    }
   ],
   "source": [
    "df['Score'].apply(score_finder).value_counts()"
   ]
  },
  {
   "cell_type": "code",
   "execution_count": 65,
   "metadata": {
    "collapsed": false
   },
   "outputs": [
    {
     "name": "stdout",
     "output_type": "stream",
     "text": [
      "0   -10\n",
      "1   -10\n",
      "2   -10\n",
      "3   -10\n",
      "4   -10\n",
      "Name: Num Score, dtype: int64\n"
     ]
    }
   ],
   "source": [
    "df['Num Score'] = df['Score'].apply(score_finder)\n",
    "print df['Num Score'].head()\n",
    "df['Score missing'] = df['Num Score'].apply(lambda x: 1 if x == -10 else 0)\n",
    "df['Num Score'] = df['Num Score'].apply(lambda x: 2 if x == -10 else x)"
   ]
  },
  {
   "cell_type": "code",
   "execution_count": 60,
   "metadata": {
    "collapsed": true
   },
   "outputs": [],
   "source": [
    "def is_number(s):\n",
    "    try:\n",
    "        float(s)\n",
    "        return True\n",
    "    except ValueError:\n",
    "        return False\n",
    "\n",
    "def score_finder(string):\n",
    "    score = string.split(' (INCOMPLETE)')[0]\n",
    "    if is_number(score):\n",
    "        return int(score)\n",
    "    else:\n",
    "        return -10"
   ]
  },
  {
   "cell_type": "code",
   "execution_count": 25,
   "metadata": {
    "collapsed": false
   },
   "outputs": [
    {
     "name": "stdout",
     "output_type": "stream",
     "text": [
      "No SVP: \n",
      "0.181055447471\n",
      "SVP: \n",
      "0.107843137255\n",
      "\n",
      "No Transient: \n",
      "0.177553470586\n",
      "Transient: \n",
      "0.214637421665\n"
     ]
    }
   ],
   "source": [
    "print 'No SVP: \\n', (df[df['SVP'] == 0]['Violation'] == 1).sum() * 1.0 / (df['SVP'] == 0).sum()\n",
    "print 'SVP: \\n', (df[df['SVP'] == 1]['Violation'] == 1).sum() * 1.0 / (df['SVP'] == 1).sum()\n",
    "print '\\nNo Transient: \\n', (df[df['Transient'] == 0]['Violation'] == 1).sum() * 1.0 / (df['Transient'] == 0).sum()\n",
    "print 'Transient: \\n', (df[df['Transient'] == 1]['Violation'] == 1).sum() * 1.0 / (df['Transient'] == 1).sum()"
   ]
  },
  {
   "cell_type": "code",
   "execution_count": 26,
   "metadata": {
    "collapsed": false
   },
   "outputs": [],
   "source": [
    "races = list(df['Ethnicity'].unique())\n",
    "races.remove('OTHER')\n",
    "df[races] = pd.get_dummies(df['Ethnicity'])[races]"
   ]
  },
  {
   "cell_type": "code",
   "execution_count": 27,
   "metadata": {
    "collapsed": false
   },
   "outputs": [
    {
     "data": {
      "text/plain": [
       "141"
      ]
     },
     "execution_count": 27,
     "metadata": {},
     "output_type": "execute_result"
    }
   ],
   "source": [
    "df['Description'].apply(lambda x: sum(1 if 'PANDERING' in y or 'PIMP' in y or 'PROCUREMENT' in y or 'TRAFFICKING' in y else 0 for y in x)).sum()"
   ]
  },
  {
   "cell_type": "code",
   "execution_count": 28,
   "metadata": {
    "collapsed": false
   },
   "outputs": [],
   "source": [
    "descrip_tags = {}\n",
    "with open('../data/Words_for_Dummies.txt') as f:\n",
    "    for line in f:\n",
    "        if 'skip' in line:\n",
    "            continue\n",
    "        key = line.split(':')[0]\n",
    "        values = line.split(':')[1].split(',')\n",
    "        values = [val.strip() for val in values]\n",
    "        descrip_tags[key] = values"
   ]
  },
  {
   "cell_type": "code",
   "execution_count": 29,
   "metadata": {
    "collapsed": false
   },
   "outputs": [
    {
     "data": {
      "text/plain": [
       "30"
      ]
     },
     "execution_count": 29,
     "metadata": {},
     "output_type": "execute_result"
    }
   ],
   "source": [
    "len(descrip_tags)"
   ]
  },
  {
   "cell_type": "code",
   "execution_count": 30,
   "metadata": {
    "collapsed": false
   },
   "outputs": [
    {
     "ename": "NameError",
     "evalue": "global name 'check_dummy' is not defined",
     "output_type": "error",
     "traceback": [
      "\u001b[0;31m---------------------------------------------------------------------------\u001b[0m",
      "\u001b[0;31mNameError\u001b[0m                                 Traceback (most recent call last)",
      "\u001b[0;32m<ipython-input-30-4eef917315f3>\u001b[0m in \u001b[0;36m<module>\u001b[0;34m()\u001b[0m\n\u001b[1;32m      1\u001b[0m \u001b[0;32mfor\u001b[0m \u001b[0mkey\u001b[0m\u001b[0;34m,\u001b[0m \u001b[0mvalue\u001b[0m \u001b[0;32min\u001b[0m \u001b[0mdescrip_tags\u001b[0m\u001b[0;34m.\u001b[0m\u001b[0miteritems\u001b[0m\u001b[0;34m(\u001b[0m\u001b[0;34m)\u001b[0m\u001b[0;34m:\u001b[0m\u001b[0;34m\u001b[0m\u001b[0m\n\u001b[0;32m----> 2\u001b[0;31m     \u001b[0mdf\u001b[0m\u001b[0;34m[\u001b[0m\u001b[0mkey\u001b[0m\u001b[0;34m]\u001b[0m \u001b[0;34m=\u001b[0m \u001b[0mdf\u001b[0m\u001b[0;34m[\u001b[0m\u001b[0;34m'Description'\u001b[0m\u001b[0;34m]\u001b[0m\u001b[0;34m.\u001b[0m\u001b[0mapply\u001b[0m\u001b[0;34m(\u001b[0m\u001b[0;32mlambda\u001b[0m \u001b[0mx\u001b[0m\u001b[0;34m:\u001b[0m \u001b[0mcheck_dummy\u001b[0m\u001b[0;34m(\u001b[0m\u001b[0mx\u001b[0m\u001b[0;34m,\u001b[0m \u001b[0mvalue\u001b[0m\u001b[0;34m)\u001b[0m\u001b[0;34m)\u001b[0m\u001b[0;34m\u001b[0m\u001b[0m\n\u001b[0m",
      "\u001b[0;32m/Users/DannyPrikaz/anaconda/lib/python2.7/site-packages/pandas/core/series.pyc\u001b[0m in \u001b[0;36mapply\u001b[0;34m(self, func, convert_dtype, args, **kwds)\u001b[0m\n\u001b[1;32m   2235\u001b[0m             \u001b[0mvalues\u001b[0m \u001b[0;34m=\u001b[0m \u001b[0mlib\u001b[0m\u001b[0;34m.\u001b[0m\u001b[0mmap_infer\u001b[0m\u001b[0;34m(\u001b[0m\u001b[0mvalues\u001b[0m\u001b[0;34m,\u001b[0m \u001b[0mboxer\u001b[0m\u001b[0;34m)\u001b[0m\u001b[0;34m\u001b[0m\u001b[0m\n\u001b[1;32m   2236\u001b[0m \u001b[0;34m\u001b[0m\u001b[0m\n\u001b[0;32m-> 2237\u001b[0;31m         \u001b[0mmapped\u001b[0m \u001b[0;34m=\u001b[0m \u001b[0mlib\u001b[0m\u001b[0;34m.\u001b[0m\u001b[0mmap_infer\u001b[0m\u001b[0;34m(\u001b[0m\u001b[0mvalues\u001b[0m\u001b[0;34m,\u001b[0m \u001b[0mf\u001b[0m\u001b[0;34m,\u001b[0m \u001b[0mconvert\u001b[0m\u001b[0;34m=\u001b[0m\u001b[0mconvert_dtype\u001b[0m\u001b[0;34m)\u001b[0m\u001b[0;34m\u001b[0m\u001b[0m\n\u001b[0m\u001b[1;32m   2238\u001b[0m         \u001b[0;32mif\u001b[0m \u001b[0mlen\u001b[0m\u001b[0;34m(\u001b[0m\u001b[0mmapped\u001b[0m\u001b[0;34m)\u001b[0m \u001b[0;32mand\u001b[0m \u001b[0misinstance\u001b[0m\u001b[0;34m(\u001b[0m\u001b[0mmapped\u001b[0m\u001b[0;34m[\u001b[0m\u001b[0;36m0\u001b[0m\u001b[0;34m]\u001b[0m\u001b[0;34m,\u001b[0m \u001b[0mSeries\u001b[0m\u001b[0;34m)\u001b[0m\u001b[0;34m:\u001b[0m\u001b[0;34m\u001b[0m\u001b[0m\n\u001b[1;32m   2239\u001b[0m             \u001b[0;32mfrom\u001b[0m \u001b[0mpandas\u001b[0m\u001b[0;34m.\u001b[0m\u001b[0mcore\u001b[0m\u001b[0;34m.\u001b[0m\u001b[0mframe\u001b[0m \u001b[0;32mimport\u001b[0m \u001b[0mDataFrame\u001b[0m\u001b[0;34m\u001b[0m\u001b[0m\n",
      "\u001b[0;32mpandas/src/inference.pyx\u001b[0m in \u001b[0;36mpandas.lib.map_infer (pandas/lib.c:63043)\u001b[0;34m()\u001b[0m\n",
      "\u001b[0;32m<ipython-input-30-4eef917315f3>\u001b[0m in \u001b[0;36m<lambda>\u001b[0;34m(x)\u001b[0m\n\u001b[1;32m      1\u001b[0m \u001b[0;32mfor\u001b[0m \u001b[0mkey\u001b[0m\u001b[0;34m,\u001b[0m \u001b[0mvalue\u001b[0m \u001b[0;32min\u001b[0m \u001b[0mdescrip_tags\u001b[0m\u001b[0;34m.\u001b[0m\u001b[0miteritems\u001b[0m\u001b[0;34m(\u001b[0m\u001b[0;34m)\u001b[0m\u001b[0;34m:\u001b[0m\u001b[0;34m\u001b[0m\u001b[0m\n\u001b[0;32m----> 2\u001b[0;31m     \u001b[0mdf\u001b[0m\u001b[0;34m[\u001b[0m\u001b[0mkey\u001b[0m\u001b[0;34m]\u001b[0m \u001b[0;34m=\u001b[0m \u001b[0mdf\u001b[0m\u001b[0;34m[\u001b[0m\u001b[0;34m'Description'\u001b[0m\u001b[0;34m]\u001b[0m\u001b[0;34m.\u001b[0m\u001b[0mapply\u001b[0m\u001b[0;34m(\u001b[0m\u001b[0;32mlambda\u001b[0m \u001b[0mx\u001b[0m\u001b[0;34m:\u001b[0m \u001b[0mcheck_dummy\u001b[0m\u001b[0;34m(\u001b[0m\u001b[0mx\u001b[0m\u001b[0;34m,\u001b[0m \u001b[0mvalue\u001b[0m\u001b[0;34m)\u001b[0m\u001b[0;34m)\u001b[0m\u001b[0;34m\u001b[0m\u001b[0m\n\u001b[0m",
      "\u001b[0;31mNameError\u001b[0m: global name 'check_dummy' is not defined"
     ]
    }
   ],
   "source": [
    "for key, value in descrip_tags.iteritems():\n",
    "    df[key] = df['Description'].apply(lambda x: check_dummy(x, value))"
   ]
  },
  {
   "cell_type": "code",
   "execution_count": null,
   "metadata": {
    "collapsed": true
   },
   "outputs": [],
   "source": [
    "def check_dummy(lst, dummy_values):\n",
    "    tot = 0\n",
    "    for val in dummy_values:\n",
    "        for descrip in lst:\n",
    "            if val in descrip:\n",
    "                tot += 1\n",
    "                \n",
    "    return tot"
   ]
  },
  {
   "cell_type": "code",
   "execution_count": null,
   "metadata": {
    "collapsed": false
   },
   "outputs": [],
   "source": [
    "df.head()"
   ]
  },
  {
   "cell_type": "code",
   "execution_count": null,
   "metadata": {
    "collapsed": false
   },
   "outputs": [],
   "source": [
    "df.columns"
   ]
  },
  {
   "cell_type": "code",
   "execution_count": null,
   "metadata": {
    "collapsed": false
   },
   "outputs": [],
   "source": [
    "for key, value in descrip_tags.iteritems():\n",
    "    print key\n",
    "    print df[key].sum()"
   ]
  },
  {
   "cell_type": "code",
   "execution_count": null,
   "metadata": {
    "collapsed": false
   },
   "outputs": [],
   "source": [
    "df['Description'][0]"
   ]
  },
  {
   "cell_type": "code",
   "execution_count": 32,
   "metadata": {
    "collapsed": false
   },
   "outputs": [
    {
     "data": {
      "text/plain": [
       "DOJ is unable to determine if there are any subsequent felony convictions for this registrant at this time.    41786\n",
       "Registrant has no California subsequent felony convictions.                                                     3322\n",
       "Registrant has subsequent felony conviction(s) but DOJ has no incarceration information for this felony.        2970\n",
       "Registrant was incarcerated for a subsequent felony conviction(s).                                              1368\n",
       "Name: redtext2, dtype: int64"
      ]
     },
     "execution_count": 32,
     "metadata": {},
     "output_type": "execute_result"
    }
   ],
   "source": [
    "df['redtext2'].value_counts()"
   ]
  },
  {
   "cell_type": "code",
   "execution_count": 49,
   "metadata": {
    "collapsed": false
   },
   "outputs": [],
   "source": [
    "df['County'] = df['Last Known Address']\\\n",
    "               .apply(lambda x: x.split('County: ')[-1]\n",
    "                      if (len(x.split('County: ')) > 1) \n",
    "                      else 'None')"
   ]
  },
  {
   "cell_type": "code",
   "execution_count": 51,
   "metadata": {
    "collapsed": false
   },
   "outputs": [
    {
     "data": {
      "text/html": [
       "<div>\n",
       "<table border=\"1\" class=\"dataframe\">\n",
       "  <thead>\n",
       "    <tr style=\"text-align: right;\">\n",
       "      <th></th>\n",
       "      <th>ALAMEDA</th>\n",
       "      <th>ALPINE</th>\n",
       "      <th>AMADOR</th>\n",
       "      <th>BUTTE</th>\n",
       "      <th>CALAVERAS</th>\n",
       "      <th>COLUSA</th>\n",
       "      <th>CONTRA COSTA</th>\n",
       "      <th>DEL NORTE</th>\n",
       "      <th>EL DORADO</th>\n",
       "      <th>FRESNO</th>\n",
       "      <th>...</th>\n",
       "      <th>SONOMA</th>\n",
       "      <th>STANISLAUS</th>\n",
       "      <th>SUTTER</th>\n",
       "      <th>TEHAMA</th>\n",
       "      <th>TRINITY</th>\n",
       "      <th>TULARE</th>\n",
       "      <th>TUOLUMNE</th>\n",
       "      <th>VENTURA</th>\n",
       "      <th>YOLO</th>\n",
       "      <th>YUBA</th>\n",
       "    </tr>\n",
       "  </thead>\n",
       "  <tbody>\n",
       "    <tr>\n",
       "      <th>0</th>\n",
       "      <td>1.0</td>\n",
       "      <td>0.0</td>\n",
       "      <td>0.0</td>\n",
       "      <td>0.0</td>\n",
       "      <td>0.0</td>\n",
       "      <td>0.0</td>\n",
       "      <td>0.0</td>\n",
       "      <td>0.0</td>\n",
       "      <td>0.0</td>\n",
       "      <td>0.0</td>\n",
       "      <td>...</td>\n",
       "      <td>0.0</td>\n",
       "      <td>0.0</td>\n",
       "      <td>0.0</td>\n",
       "      <td>0.0</td>\n",
       "      <td>0.0</td>\n",
       "      <td>0.0</td>\n",
       "      <td>0.0</td>\n",
       "      <td>0.0</td>\n",
       "      <td>0.0</td>\n",
       "      <td>0.0</td>\n",
       "    </tr>\n",
       "    <tr>\n",
       "      <th>1</th>\n",
       "      <td>1.0</td>\n",
       "      <td>0.0</td>\n",
       "      <td>0.0</td>\n",
       "      <td>0.0</td>\n",
       "      <td>0.0</td>\n",
       "      <td>0.0</td>\n",
       "      <td>0.0</td>\n",
       "      <td>0.0</td>\n",
       "      <td>0.0</td>\n",
       "      <td>0.0</td>\n",
       "      <td>...</td>\n",
       "      <td>0.0</td>\n",
       "      <td>0.0</td>\n",
       "      <td>0.0</td>\n",
       "      <td>0.0</td>\n",
       "      <td>0.0</td>\n",
       "      <td>0.0</td>\n",
       "      <td>0.0</td>\n",
       "      <td>0.0</td>\n",
       "      <td>0.0</td>\n",
       "      <td>0.0</td>\n",
       "    </tr>\n",
       "    <tr>\n",
       "      <th>2</th>\n",
       "      <td>0.0</td>\n",
       "      <td>0.0</td>\n",
       "      <td>0.0</td>\n",
       "      <td>0.0</td>\n",
       "      <td>0.0</td>\n",
       "      <td>0.0</td>\n",
       "      <td>0.0</td>\n",
       "      <td>0.0</td>\n",
       "      <td>0.0</td>\n",
       "      <td>0.0</td>\n",
       "      <td>...</td>\n",
       "      <td>0.0</td>\n",
       "      <td>0.0</td>\n",
       "      <td>0.0</td>\n",
       "      <td>0.0</td>\n",
       "      <td>0.0</td>\n",
       "      <td>0.0</td>\n",
       "      <td>0.0</td>\n",
       "      <td>0.0</td>\n",
       "      <td>0.0</td>\n",
       "      <td>0.0</td>\n",
       "    </tr>\n",
       "    <tr>\n",
       "      <th>3</th>\n",
       "      <td>1.0</td>\n",
       "      <td>0.0</td>\n",
       "      <td>0.0</td>\n",
       "      <td>0.0</td>\n",
       "      <td>0.0</td>\n",
       "      <td>0.0</td>\n",
       "      <td>0.0</td>\n",
       "      <td>0.0</td>\n",
       "      <td>0.0</td>\n",
       "      <td>0.0</td>\n",
       "      <td>...</td>\n",
       "      <td>0.0</td>\n",
       "      <td>0.0</td>\n",
       "      <td>0.0</td>\n",
       "      <td>0.0</td>\n",
       "      <td>0.0</td>\n",
       "      <td>0.0</td>\n",
       "      <td>0.0</td>\n",
       "      <td>0.0</td>\n",
       "      <td>0.0</td>\n",
       "      <td>0.0</td>\n",
       "    </tr>\n",
       "    <tr>\n",
       "      <th>4</th>\n",
       "      <td>1.0</td>\n",
       "      <td>0.0</td>\n",
       "      <td>0.0</td>\n",
       "      <td>0.0</td>\n",
       "      <td>0.0</td>\n",
       "      <td>0.0</td>\n",
       "      <td>0.0</td>\n",
       "      <td>0.0</td>\n",
       "      <td>0.0</td>\n",
       "      <td>0.0</td>\n",
       "      <td>...</td>\n",
       "      <td>0.0</td>\n",
       "      <td>0.0</td>\n",
       "      <td>0.0</td>\n",
       "      <td>0.0</td>\n",
       "      <td>0.0</td>\n",
       "      <td>0.0</td>\n",
       "      <td>0.0</td>\n",
       "      <td>0.0</td>\n",
       "      <td>0.0</td>\n",
       "      <td>0.0</td>\n",
       "    </tr>\n",
       "  </tbody>\n",
       "</table>\n",
       "<p>5 rows × 59 columns</p>\n",
       "</div>"
      ],
      "text/plain": [
       "   ALAMEDA  ALPINE  AMADOR  BUTTE  CALAVERAS  COLUSA  CONTRA COSTA  DEL NORTE  \\\n",
       "0      1.0     0.0     0.0    0.0        0.0     0.0           0.0        0.0   \n",
       "1      1.0     0.0     0.0    0.0        0.0     0.0           0.0        0.0   \n",
       "2      0.0     0.0     0.0    0.0        0.0     0.0           0.0        0.0   \n",
       "3      1.0     0.0     0.0    0.0        0.0     0.0           0.0        0.0   \n",
       "4      1.0     0.0     0.0    0.0        0.0     0.0           0.0        0.0   \n",
       "\n",
       "   EL DORADO  FRESNO  ...   SONOMA  STANISLAUS  SUTTER  TEHAMA  TRINITY  \\\n",
       "0        0.0     0.0  ...      0.0         0.0     0.0     0.0      0.0   \n",
       "1        0.0     0.0  ...      0.0         0.0     0.0     0.0      0.0   \n",
       "2        0.0     0.0  ...      0.0         0.0     0.0     0.0      0.0   \n",
       "3        0.0     0.0  ...      0.0         0.0     0.0     0.0      0.0   \n",
       "4        0.0     0.0  ...      0.0         0.0     0.0     0.0      0.0   \n",
       "\n",
       "   TULARE  TUOLUMNE  VENTURA  YOLO  YUBA  \n",
       "0     0.0       0.0      0.0   0.0   0.0  \n",
       "1     0.0       0.0      0.0   0.0   0.0  \n",
       "2     0.0       0.0      0.0   0.0   0.0  \n",
       "3     0.0       0.0      0.0   0.0   0.0  \n",
       "4     0.0       0.0      0.0   0.0   0.0  \n",
       "\n",
       "[5 rows x 59 columns]"
      ]
     },
     "execution_count": 51,
     "metadata": {},
     "output_type": "execute_result"
    }
   ],
   "source": [
    "pd.get_dummies(df['County']).head()"
   ]
  },
  {
   "cell_type": "code",
   "execution_count": null,
   "metadata": {
    "collapsed": true
   },
   "outputs": [],
   "source": []
  }
 ],
 "metadata": {
  "kernelspec": {
   "display_name": "Python 2",
   "language": "python",
   "name": "python2"
  },
  "language_info": {
   "codemirror_mode": {
    "name": "ipython",
    "version": 2
   },
   "file_extension": ".py",
   "mimetype": "text/x-python",
   "name": "python",
   "nbconvert_exporter": "python",
   "pygments_lexer": "ipython2",
   "version": "2.7.11"
  }
 },
 "nbformat": 4,
 "nbformat_minor": 0
}
